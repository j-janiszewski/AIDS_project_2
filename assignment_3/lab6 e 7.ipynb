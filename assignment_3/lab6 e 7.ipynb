{
 "cells": [
  {
   "cell_type": "code",
   "execution_count": 1,
   "metadata": {
    "collapsed": true
   },
   "outputs": [],
   "source": [
    "from pyspark.sql import SparkSession\n",
    "from pyspark.sql.functions import split\n",
    "from pyspark.sql.functions import explode\n",
    "from pyspark.sql.functions import desc\n",
    "from pyspark.sql.functions import monotonically_increasing_id"
   ]
  },
  {
   "cell_type": "code",
   "execution_count": 2,
   "outputs": [
    {
     "name": "stdout",
     "output_type": "stream",
     "text": [
      "+--------------------+\n",
      "|               value|\n",
      "+--------------------+\n",
      "|5988 748 1722 375...|\n",
      "|5989 4080 4264 44...|\n",
      "|5982 217 595 1194...|\n",
      "|5983 1165 3836 43...|\n",
      "|5980 2731 3712 15...|\n",
      "|5981 3569 5353 40...|\n",
      "|5986 2658 3712 26...|\n",
      "|5987 2614 5716 17...|\n",
      "|5984 590 4898 745...|\n",
      "|5985 3233 2254 21...|\n",
      "|6294 4898 1127 32...|\n",
      "|270 2658 3003 380...|\n",
      "|271 4935 5716 430...|\n",
      "|272 2717 4363 408...|\n",
      "|273 1165 5013 511...|\n",
      "|274 3920 5310 402...|\n",
      "|275 4366 3373 158...|\n",
      "|276 2277 5251 480...|\n",
      "|277 1068 3495 619...|\n",
      "|278 1145 667 2650...|\n",
      "+--------------------+\n",
      "only showing top 20 rows\n",
      "\n"
     ]
    }
   ],
   "source": [
    "spark = SparkSession.builder.appName(\"WordFrequency\").getOrCreate()\n",
    "df_count = spark.read.text(\"Marvel+Graph.txt\")\n",
    "df_count.show()"
   ],
   "metadata": {
    "collapsed": false,
    "pycharm": {
     "name": "#%%\n"
    }
   }
  },
  {
   "cell_type": "code",
   "execution_count": 3,
   "outputs": [
    {
     "name": "stdout",
     "output_type": "stream",
     "text": [
      "+--------------------+\n",
      "|               value|\n",
      "+--------------------+\n",
      "|1 \"24-HOUR MAN/EM...|\n",
      "|2 \"3-D MAN/CHARLE...|\n",
      "|3 \"4-D MAN/MERCURIO\"|\n",
      "|         4 \"8-BALL/\"|\n",
      "|               5 \"A\"|\n",
      "|           6 \"A'YIN\"|\n",
      "|    7 \"ABBOTT, JACK\"|\n",
      "|         8 \"ABCISSA\"|\n",
      "|            9 \"ABEL\"|\n",
      "|10 \"ABOMINATION/E...|\n",
      "|11 \"ABOMINATION |...|\n",
      "|    12 \"ABOMINATRIX\"|\n",
      "|        13 \"ABRAXAS\"|\n",
      "|     14 \"ADAM 3,031\"|\n",
      "|        15 \"ABSALOM\"|\n",
      "|16 \"ABSORBING MAN...|\n",
      "|17 \"ABSORBING MAN...|\n",
      "|           18 \"ACBA\"|\n",
      "|19 \"ACHEBE, REVER...|\n",
      "|       20 \"ACHILLES\"|\n",
      "+--------------------+\n",
      "only showing top 20 rows\n",
      "\n"
     ]
    }
   ],
   "source": [
    "df_nomes = spark.read.text(\"Marvel+Names.txt\")\n",
    "df_nomes.show()"
   ],
   "metadata": {
    "collapsed": false,
    "pycharm": {
     "name": "#%%\n"
    }
   }
  },
  {
   "cell_type": "code",
   "execution_count": 4,
   "outputs": [],
   "source": [
    "words = df_count.select(explode(split(df_count.value, \" \")).alias(\"word\"))"
   ],
   "metadata": {
    "collapsed": false,
    "pycharm": {
     "name": "#%%\n"
    }
   }
  },
  {
   "cell_type": "code",
   "execution_count": 6,
   "outputs": [
    {
     "name": "stdout",
     "output_type": "stream",
     "text": [
      "+----+-----+\n",
      "|word|count|\n",
      "+----+-----+\n",
      "| 859| 1937|\n",
      "|5306| 1745|\n",
      "|2664| 1532|\n",
      "|5716| 1429|\n",
      "|6306| 1397|\n",
      "|3805| 1389|\n",
      "|2557| 1374|\n",
      "|4898| 1348|\n",
      "|5736| 1292|\n",
      "| 403| 1283|\n",
      "|6066| 1266|\n",
      "|2650| 1247|\n",
      "|2399| 1179|\n",
      "|1289| 1107|\n",
      "|5467| 1098|\n",
      "| 133| 1097|\n",
      "|6148| 1096|\n",
      "| 154| 1095|\n",
      "|5046| 1083|\n",
      "|1602| 1082|\n",
      "+----+-----+\n",
      "only showing top 20 rows\n",
      "\n"
     ]
    }
   ],
   "source": [
    "filtered_words = words.filter(words.word != '')\n",
    "word_freq = filtered_words.groupBy(\"word\").count()\n",
    "word_freq = word_freq.sort(desc(\"count\"))\n",
    "word_freq.show()"
   ],
   "metadata": {
    "collapsed": false,
    "pycharm": {
     "name": "#%%\n"
    }
   }
  },
  {
   "cell_type": "code",
   "execution_count": 16,
   "outputs": [
    {
     "data": {
      "text/plain": "['859', 1937]"
     },
     "execution_count": 16,
     "metadata": {},
     "output_type": "execute_result"
    }
   ],
   "source": [
    "first_row = list(word_freq.first())\n",
    "last_row = list(word_freq.collect()[-1])\n",
    "\n",
    "first_row"
   ],
   "metadata": {
    "collapsed": false,
    "pycharm": {
     "name": "#%%\n"
    }
   }
  },
  {
   "cell_type": "code",
   "execution_count": 12,
   "outputs": [
    {
     "name": "stdout",
     "output_type": "stream",
     "text": [
      "+--------------------+---+--------------------+\n",
      "|               value| ID|                Name|\n",
      "+--------------------+---+--------------------+\n",
      "|1 \"24-HOUR MAN/EM...|  1|24-HOUR MAN/EMMAN...|\n",
      "|2 \"3-D MAN/CHARLE...|  2|3-D MAN/CHARLES C...|\n",
      "|3 \"4-D MAN/MERCURIO\"|  3|   4-D MAN/MERCURIO\"|\n",
      "|         4 \"8-BALL/\"|  4|            8-BALL/\"|\n",
      "|               5 \"A\"|  5|                  A\"|\n",
      "|           6 \"A'YIN\"|  6|              A'YIN\"|\n",
      "|    7 \"ABBOTT, JACK\"|  7|       ABBOTT, JACK\"|\n",
      "|         8 \"ABCISSA\"|  8|            ABCISSA\"|\n",
      "|            9 \"ABEL\"|  9|               ABEL\"|\n",
      "|10 \"ABOMINATION/E...| 10|ABOMINATION/EMIL ...|\n",
      "|11 \"ABOMINATION |...| 11|ABOMINATION | MUT...|\n",
      "|    12 \"ABOMINATRIX\"| 12|        ABOMINATRIX\"|\n",
      "|        13 \"ABRAXAS\"| 13|            ABRAXAS\"|\n",
      "|     14 \"ADAM 3,031\"| 14|         ADAM 3,031\"|\n",
      "|        15 \"ABSALOM\"| 15|            ABSALOM\"|\n",
      "|16 \"ABSORBING MAN...| 16|ABSORBING MAN/CAR...|\n",
      "|17 \"ABSORBING MAN...| 17|ABSORBING MAN | M...|\n",
      "|           18 \"ACBA\"| 18|               ACBA\"|\n",
      "|19 \"ACHEBE, REVER...| 19|ACHEBE, REVEREND ...|\n",
      "|       20 \"ACHILLES\"| 20|           ACHILLES\"|\n",
      "+--------------------+---+--------------------+\n",
      "only showing top 20 rows\n",
      "\n"
     ]
    }
   ],
   "source": [
    "df_split = df_nomes.withColumn(\"ID\", split(df_nomes[\"value\"], ' \"')[0].cast(\"int\")).withColumn(\"Name\", split(df_nomes[\"value\"], ' \"')[1])\n",
    "df_split.show()"
   ],
   "metadata": {
    "collapsed": false,
    "pycharm": {
     "name": "#%%\n"
    }
   }
  },
  {
   "cell_type": "code",
   "execution_count": 14,
   "outputs": [
    {
     "name": "stdout",
     "output_type": "stream",
     "text": [
      "+--------------------+---+----------------+\n",
      "|               value| ID|            Name|\n",
      "+--------------------+---+----------------+\n",
      "|859 \"CAPTAIN AMER...|859|CAPTAIN AMERICA\"|\n",
      "+--------------------+---+----------------+\n",
      "\n"
     ]
    }
   ],
   "source": [
    "mais_popular = df_split.filter(df_split.ID == first_row[0])\n",
    "mais_popular.show()"
   ],
   "metadata": {
    "collapsed": false,
    "pycharm": {
     "name": "#%%\n"
    }
   }
  },
  {
   "cell_type": "code",
   "execution_count": 17,
   "outputs": [
    {
     "name": "stdout",
     "output_type": "stream",
     "text": [
      "+--------------------+----+--------------------+\n",
      "|               value|  ID|                Name|\n",
      "+--------------------+----+--------------------+\n",
      "|2117 \"GERVASE, LA...|2117|GERVASE, LADY ALY...|\n",
      "+--------------------+----+--------------------+\n",
      "\n"
     ]
    }
   ],
   "source": [
    "menos_popular = df_split.filter(df_split.ID == last_row[0])\n",
    "menos_popular.show()"
   ],
   "metadata": {
    "collapsed": false,
    "pycharm": {
     "name": "#%%\n"
    }
   }
  }
 ],
 "metadata": {
  "kernelspec": {
   "display_name": "Python 3",
   "language": "python",
   "name": "python3"
  },
  "language_info": {
   "codemirror_mode": {
    "name": "ipython",
    "version": 2
   },
   "file_extension": ".py",
   "mimetype": "text/x-python",
   "name": "python",
   "nbconvert_exporter": "python",
   "pygments_lexer": "ipython2",
   "version": "2.7.6"
  }
 },
 "nbformat": 4,
 "nbformat_minor": 0
}